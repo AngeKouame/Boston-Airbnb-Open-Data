{
 "cells": [
  {
   "cell_type": "markdown",
   "metadata": {},
   "source": [
    "The goal of this project is to analysing the Boston dataset using the CRISP-DM methods, we will try to answer some questions \n",
    "The method to follow is <br>\n",
    "1 - Business understanding <br>\n",
    "2 - Data understanding <br>\n",
    "3 - Data preparation <br>\n",
    "4 - Modeling <br>\n",
    "5 - Evaluation <br>\n",
    "6 - Processing <br>\n",
    "\n",
    "## A look at the data\n",
    "\n",
    " Import all necessary libraries."
   ]
  },
  {
   "cell_type": "code",
   "execution_count": 7,
   "metadata": {
    "collapsed": true
   },
   "outputs": [],
   "source": [
    "import numpy as np\n",
    "import pandas as pd\n",
    "from IPython import display\n",
    "import matplotlib.pyplot as plt\n",
    "%matplotlib inline"
   ]
  },
  {
   "cell_type": "markdown",
   "metadata": {},
   "source": [
    "Read all the dataset we've export\n",
    "## A look at the data\n",
    "\n",
    " Read all the data with right separator and pandas."
   ]
  },
  {
   "cell_type": "code",
   "execution_count": 8,
   "metadata": {
    "collapsed": true
   },
   "outputs": [],
   "source": [
    "calendar = pd.read_csv('calendar.csv', sep=',')\n",
    "listings = pd.read_csv('listings.csv', sep=',')\n",
    "reviews = pd.read_csv('reviews.csv', sep=',')"
   ]
  },
  {
   "cell_type": "markdown",
   "metadata": {},
   "source": [
    "## I - Listings dataset analysis\n",
    "**1.** Let's analyse listings dataset to see columns and values"
   ]
  },
  {
   "cell_type": "code",
   "execution_count": 37,
   "metadata": {},
   "outputs": [
    {
     "data": {
      "text/plain": [
       "<matplotlib.axes._subplots.AxesSubplot at 0x7f17cf8e0dd8>"
      ]
     },
     "execution_count": 37,
     "metadata": {},
     "output_type": "execute_result"
    },
    {
     "data": {
      "image/png": "[encoded data removed]",
      "text/plain": [
       "<matplotlib.figure.Figure at 0x7f17cfa35978>"
      ]
     },
     "metadata": {},
     "output_type": "display_data"
    }
   ],
   "source": [
    "#get a look to the listing data\n",
    "listings.plot(kind = 'scatter', x='latitude', y='longitude')"
   ]
  },
  {
   "cell_type": "markdown",
   "metadata": {},
   "source": [
    "**3.** get a look on dataframe number of columns and rows \n",
    "we will use this quite a lot so let's create a function"
   ]
  },
  {
   "cell_type": "code",
   "execution_count": 10,
   "metadata": {},
   "outputs": [
    {
     "data": {
      "text/plain": [
       "3585"
      ]
     },
     "execution_count": 10,
     "metadata": {},
     "output_type": "execute_result"
    }
   ],
   "source": [
    "len(list(set(listings['id'])))"
   ]
  },
  {
   "cell_type": "code",
   "execution_count": 11,
   "metadata": {
    "collapsed": true
   },
   "outputs": [],
   "source": [
    "def get_dataframe_info(dataframe):\n",
    "    '''\n",
    "    INPUT\n",
    "    dataframe - pandas dataframe \n",
    "    \n",
    "    OUTPUT\n",
    "    printing the numbers of row\n",
    "    and columns of the dataframe\n",
    "\n",
    "    '''\n",
    "    print('number of rows of dataframe: {} \\n'.format(dataframe.shape[0]))\n",
    "    print('number of columns of  dataframe: {} \\n'.format(dataframe.shape[1]))"
   ]
  },
  {
   "cell_type": "code",
   "execution_count": 12,
   "metadata": {},
   "outputs": [
    {
     "name": "stdout",
     "output_type": "stream",
     "text": [
      "number of rows of dataframe: 3585 \n",
      "\n",
      "number of columns of  dataframe: 95 \n",
      "\n"
     ]
    }
   ],
   "source": [
    "get_dataframe_info(listings)"
   ]
  },
  {
   "cell_type": "markdown",
   "metadata": {},
   "source": [
    "**4.** get a look to categorical and numerical columns\n",
    "create a function for that also"
   ]
  },
  {
   "cell_type": "code",
   "execution_count": 13,
   "metadata": {
    "collapsed": true
   },
   "outputs": [],
   "source": [
    "def get_dataframe_categorie(dataframe):\n",
    "    '''\n",
    "    INPUT\n",
    "    dataframe - pandas dataframe \n",
    "    \n",
    "    OUTPUT\n",
    "    printing the numbers of\n",
    "    categorical and numerical\n",
    "    variables\n",
    "\n",
    "    '''\n",
    "    numerical_dataframe = dataframe.select_dtypes(include=['number'])\n",
    "    categorical_dataframe = dataframe.select_dtypes(exclude=['number'])\n",
    "    print('number of numerical columns: {} \\n'.format(numerical_dataframe.shape[1]))\n",
    "    print('number of categorical columns: {} \\n'.format(categorical_dataframe.shape[1]))"
   ]
  },
  {
   "cell_type": "code",
   "execution_count": 65,
   "metadata": {},
   "outputs": [
    {
     "name": "stdout",
     "output_type": "stream",
     "text": [
      "number of numerical columns: 33 \n",
      "\n",
      "number of categorical columns: 62 \n",
      "\n"
     ]
    }
   ],
   "source": [
    "get_dataframe_categorie(listings)"
   ]
  },
  {
   "cell_type": "markdown",
   "metadata": {},
   "source": [
    "**5.** get infos about missing values\n",
    "we will use this quite a lot so let's create a function"
   ]
  },
  {
   "cell_type": "code",
   "execution_count": 68,
   "metadata": {
    "collapsed": true
   },
   "outputs": [],
   "source": [
    "def get_info_missing_values(dataframe):\n",
    "    '''\n",
    "    INPUT\n",
    "    dataframe - pandas dataframe \n",
    "    \n",
    "    OUTPUT\n",
    "    print the missing values ratio\n",
    "    for each column of the dataframe\n",
    "\n",
    "    '''\n",
    "    print(dataframe.isnull().mean().sort_values(ascending=False))"
   ]
  },
  {
   "cell_type": "markdown",
   "metadata": {},
   "source": [
    "**6.** get columns with a certain percetange of missing values"
   ]
  },
  {
   "cell_type": "code",
   "execution_count": 69,
   "metadata": {},
   "outputs": [
    {
     "name": "stdout",
     "output_type": "stream",
     "text": [
      "neighbourhood_group_cleansed        1.000000\n",
      "jurisdiction_names                  1.000000\n",
      "license                             1.000000\n",
      "has_availability                    1.000000\n",
      "square_feet                         0.984379\n",
      "monthly_price                       0.752301\n",
      "weekly_price                        0.751185\n",
      "security_deposit                    0.625662\n",
      "notes                               0.550907\n",
      "interaction                         0.433473\n",
      "access                              0.415342\n",
      "neighborhood_overview               0.394700\n",
      "host_about                          0.365132\n",
      "transit                             0.359833\n",
      "house_rules                         0.332497\n",
      "cleaning_fee                        0.308787\n",
      "space                               0.294840\n",
      "review_scores_accuracy              0.229568\n",
      "review_scores_location              0.229289\n",
      "review_scores_value                 0.229010\n",
      "review_scores_checkin               0.228731\n",
      "review_scores_cleanliness           0.228173\n",
      "review_scores_communication         0.228173\n",
      "review_scores_rating                0.226778\n",
      "reviews_per_month                   0.210879\n",
      "first_review                        0.210879\n",
      "last_review                         0.210879\n",
      "thumbnail_url                       0.167085\n",
      "medium_url                          0.167085\n",
      "xl_picture_url                      0.167085\n",
      "                                      ...   \n",
      "calendar_updated                    0.000000\n",
      "availability_30                     0.000000\n",
      "availability_60                     0.000000\n",
      "availability_90                     0.000000\n",
      "calendar_last_scraped               0.000000\n",
      "host_has_profile_pic                0.000000\n",
      "number_of_reviews                   0.000000\n",
      "requires_license                    0.000000\n",
      "instant_bookable                    0.000000\n",
      "cancellation_policy                 0.000000\n",
      "require_guest_profile_picture       0.000000\n",
      "require_guest_phone_verification    0.000000\n",
      "extra_people                        0.000000\n",
      "guests_included                     0.000000\n",
      "price                               0.000000\n",
      "amenities                           0.000000\n",
      "bed_type                            0.000000\n",
      "accommodates                        0.000000\n",
      "room_type                           0.000000\n",
      "is_location_exact                   0.000000\n",
      "longitude                           0.000000\n",
      "latitude                            0.000000\n",
      "calculated_host_listings_count      0.000000\n",
      "country_code                        0.000000\n",
      "smart_location                      0.000000\n",
      "state                               0.000000\n",
      "neighbourhood_cleansed              0.000000\n",
      "street                              0.000000\n",
      "host_identity_verified              0.000000\n",
      "id                                  0.000000\n",
      "Length: 95, dtype: float64\n"
     ]
    }
   ],
   "source": [
    "get_info_missing_values(listings)"
   ]
  },
  {
   "cell_type": "code",
   "execution_count": null,
   "metadata": {
    "collapsed": true
   },
   "outputs": [],
   "source": [
    "#get columns with entire missing values\n",
    "missing_columns = listings.columns[listings.isnull().mean()==1]\n",
    "print('colums with no values \\n {} '.format(missing_columns))"
   ]
  },
  {
   "cell_type": "code",
   "execution_count": null,
   "metadata": {
    "collapsed": true
   },
   "outputs": [],
   "source": [
    "# get a look at these columns data\n",
    "\n",
    "listings_data = listings[missing_columns]\n",
    "listings_data.head()"
   ]
  },
  {
   "cell_type": "markdown",
   "metadata": {},
   "source": [
    "We got no data at all for these columns so are they relevants no, they dont give many informations\n",
    "in the dataset, we can delete them"
   ]
  },
  {
   "cell_type": "code",
   "execution_count": null,
   "metadata": {
    "collapsed": true
   },
   "outputs": [],
   "source": [
    "#delete theses columns\n",
    "listings = listings.drop(list(missing_columns), axis=1)"
   ]
  },
  {
   "cell_type": "code",
   "execution_count": null,
   "metadata": {
    "collapsed": true
   },
   "outputs": [],
   "source": [
    "# get the columns with no missing values\n",
    "clean_columns = listings.columns[listings.isnull().mean()==0]\n",
    "print('colums with no missings \\n {} '.format(clean_columns))"
   ]
  },
  {
   "cell_type": "code",
   "execution_count": null,
   "metadata": {
    "collapsed": true
   },
   "outputs": [],
   "source": [
    "# get the numeric variables from listing dataset\n",
    "num_vars = listings.select_dtypes(include=['number'])\n",
    "print('numbers of numerical variables are {} \\n'.format(len(num_vars.columns)))\n",
    "\n",
    "# get the categorical variables from dataset\n",
    "cat_vars = listings.select_dtypes(exclude=['number'])\n",
    "print('numbers of categorical variables are {} \\n'.format(len(cat_vars.columns)))"
   ]
  },
  {
   "cell_type": "markdown",
   "metadata": {},
   "source": [
    "Let's have a view on the experience offered repartition"
   ]
  },
  {
   "cell_type": "code",
   "execution_count": null,
   "metadata": {
    "collapsed": true
   },
   "outputs": [],
   "source": [
    "# print all columns from the dataset\n",
    "print(listings.columns,'\\n')\n",
    "\n",
    "#get the number of missing values in  property type\n",
    "print('mean of listings missing {} \\n'.format(listings['property_type'].isnull().mean()))\n"
   ]
  },
  {
   "cell_type": "markdown",
   "metadata": {},
   "source": [
    "we can see that only few values is missing so hot always enter the type of the house\n",
    "Let's get a look on listings type repartition"
   ]
  },
  {
   "cell_type": "code",
   "execution_count": null,
   "metadata": {
    "collapsed": true
   },
   "outputs": [],
   "source": [
    "# get the number of property type missing in the dataset\n",
    "property_type = listings['property_type'].value_counts()\n",
    "(property_type/listings.shape[0]).plot(kind='bar');\n",
    "plt.title('Type of listing demanded');"
   ]
  },
  {
   "cell_type": "markdown",
   "metadata": {},
   "source": [
    "We can see that the most demanded type of listings is Appartment, people like to book most of the time appartmets (70%), houses come in second "
   ]
  },
  {
   "cell_type": "code",
   "execution_count": null,
   "metadata": {
    "collapsed": true
   },
   "outputs": [],
   "source": [
    "# plot histogram for all the numeric values of listings\n",
    "listings.hist(bins=50,figsize=((20,15)))"
   ]
  },
  {
   "cell_type": "markdown",
   "metadata": {},
   "source": [
    "when analysing the hist from numerical variables, we can see that many things\n",
    "- many of houses has 2 accomodates (kind of appartments)\n",
    "- most of the listings have one bedroom\n",
    "- "
   ]
  },
  {
   "cell_type": "markdown",
   "metadata": {},
   "source": [
    "## II - Reviews dataset analysis\n",
    "**1.** Let's analyse reviews dataset to see columns and values"
   ]
  },
  {
   "cell_type": "code",
   "execution_count": 16,
   "metadata": {},
   "outputs": [
    {
     "data": {
      "text/html": [
       "<div>\n",
       "<style>\n",
       "    .dataframe thead tr:only-child th {\n",
       "        text-align: right;\n",
       "    }\n",
       "\n",
       "    .dataframe thead th {\n",
       "        text-align: left;\n",
       "    }\n",
       "\n",
       "    .dataframe tbody tr th {\n",
       "        vertical-align: top;\n",
       "    }\n",
       "</style>\n",
       "<table border=\"1\" class=\"dataframe\">\n",
       "  <thead>\n",
       "    <tr style=\"text-align: right;\">\n",
       "      <th></th>\n",
       "      <th>listing_id</th>\n",
       "      <th>id</th>\n",
       "      <th>date</th>\n",
       "      <th>reviewer_id</th>\n",
       "      <th>reviewer_name</th>\n",
       "      <th>comments</th>\n",
       "    </tr>\n",
       "  </thead>\n",
       "  <tbody>\n",
       "    <tr>\n",
       "      <th>0</th>\n",
       "      <td>1178162</td>\n",
       "      <td>4724140</td>\n",
       "      <td>2013-05-21</td>\n",
       "      <td>4298113</td>\n",
       "      <td>Olivier</td>\n",
       "      <td>My stay at islam's place was really cool! Good...</td>\n",
       "    </tr>\n",
       "    <tr>\n",
       "      <th>1</th>\n",
       "      <td>1178162</td>\n",
       "      <td>4869189</td>\n",
       "      <td>2013-05-29</td>\n",
       "      <td>6452964</td>\n",
       "      <td>Charlotte</td>\n",
       "      <td>Great location for both airport and city - gre...</td>\n",
       "    </tr>\n",
       "    <tr>\n",
       "      <th>2</th>\n",
       "      <td>1178162</td>\n",
       "      <td>5003196</td>\n",
       "      <td>2013-06-06</td>\n",
       "      <td>6449554</td>\n",
       "      <td>Sebastian</td>\n",
       "      <td>We really enjoyed our stay at Islams house. Fr...</td>\n",
       "    </tr>\n",
       "    <tr>\n",
       "      <th>3</th>\n",
       "      <td>1178162</td>\n",
       "      <td>5150351</td>\n",
       "      <td>2013-06-15</td>\n",
       "      <td>2215611</td>\n",
       "      <td>Marine</td>\n",
       "      <td>The room was nice and clean and so were the co...</td>\n",
       "    </tr>\n",
       "    <tr>\n",
       "      <th>4</th>\n",
       "      <td>1178162</td>\n",
       "      <td>5171140</td>\n",
       "      <td>2013-06-16</td>\n",
       "      <td>6848427</td>\n",
       "      <td>Andrew</td>\n",
       "      <td>Great location. Just 5 mins walk from the Airp...</td>\n",
       "    </tr>\n",
       "    <tr>\n",
       "      <th>5</th>\n",
       "      <td>1178162</td>\n",
       "      <td>5198929</td>\n",
       "      <td>2013-06-17</td>\n",
       "      <td>6663826</td>\n",
       "      <td>Arndt</td>\n",
       "      <td>A truely exeptional place to stay. The hosts a...</td>\n",
       "    </tr>\n",
       "    <tr>\n",
       "      <th>6</th>\n",
       "      <td>1178162</td>\n",
       "      <td>6702817</td>\n",
       "      <td>2013-08-21</td>\n",
       "      <td>8099222</td>\n",
       "      <td>Maurice</td>\n",
       "      <td>It was a really nice time in Boston - best pla...</td>\n",
       "    </tr>\n",
       "    <tr>\n",
       "      <th>7</th>\n",
       "      <td>1178162</td>\n",
       "      <td>6873023</td>\n",
       "      <td>2013-08-28</td>\n",
       "      <td>7671888</td>\n",
       "      <td>Elodie</td>\n",
       "      <td>Islam is a very nice guy ! Attentive, funny, h...</td>\n",
       "    </tr>\n",
       "    <tr>\n",
       "      <th>8</th>\n",
       "      <td>1178162</td>\n",
       "      <td>7646702</td>\n",
       "      <td>2013-09-28</td>\n",
       "      <td>8197342</td>\n",
       "      <td>Arkadiusz</td>\n",
       "      <td>The place is really well furnished, pleasant a...</td>\n",
       "    </tr>\n",
       "    <tr>\n",
       "      <th>9</th>\n",
       "      <td>1178162</td>\n",
       "      <td>8094418</td>\n",
       "      <td>2013-10-15</td>\n",
       "      <td>9040491</td>\n",
       "      <td>Matthew</td>\n",
       "      <td>Our stay at Islam's place was fantastic. We co...</td>\n",
       "    </tr>\n",
       "    <tr>\n",
       "      <th>10</th>\n",
       "      <td>1178162</td>\n",
       "      <td>8174594</td>\n",
       "      <td>2013-10-19</td>\n",
       "      <td>9101576</td>\n",
       "      <td>Simona</td>\n",
       "      <td>Our stay at Islam's was very enjoyable, Islam ...</td>\n",
       "    </tr>\n",
       "    <tr>\n",
       "      <th>11</th>\n",
       "      <td>1178162</td>\n",
       "      <td>8226316</td>\n",
       "      <td>2013-10-21</td>\n",
       "      <td>884407</td>\n",
       "      <td>Laurent</td>\n",
       "      <td>Communication with Islam and his brother was g...</td>\n",
       "    </tr>\n",
       "    <tr>\n",
       "      <th>12</th>\n",
       "      <td>1178162</td>\n",
       "      <td>8372308</td>\n",
       "      <td>2013-10-28</td>\n",
       "      <td>8837991</td>\n",
       "      <td>Olga Maria</td>\n",
       "      <td>Mi estadía en Boston aunque corta fue muy buen...</td>\n",
       "    </tr>\n",
       "    <tr>\n",
       "      <th>13</th>\n",
       "      <td>1178162</td>\n",
       "      <td>8414572</td>\n",
       "      <td>2013-10-29</td>\n",
       "      <td>478275</td>\n",
       "      <td>Kat</td>\n",
       "      <td>Well sized room for two people with the basic ...</td>\n",
       "    </tr>\n",
       "    <tr>\n",
       "      <th>14</th>\n",
       "      <td>1178162</td>\n",
       "      <td>8523707</td>\n",
       "      <td>2013-11-04</td>\n",
       "      <td>8824032</td>\n",
       "      <td>Ivan</td>\n",
       "      <td>GREAT SPACE, PERFECT LOCATION, AWESOME PEOPLE!...</td>\n",
       "    </tr>\n",
       "    <tr>\n",
       "      <th>15</th>\n",
       "      <td>1178162</td>\n",
       "      <td>11069185</td>\n",
       "      <td>2014-03-18</td>\n",
       "      <td>10454265</td>\n",
       "      <td>Jeffrey</td>\n",
       "      <td>The room was exactly as pictured, no frills, y...</td>\n",
       "    </tr>\n",
       "    <tr>\n",
       "      <th>16</th>\n",
       "      <td>1178162</td>\n",
       "      <td>11159232</td>\n",
       "      <td>2014-03-23</td>\n",
       "      <td>9798322</td>\n",
       "      <td>Alexander</td>\n",
       "      <td>The room was clean and very comfortable. Havin...</td>\n",
       "    </tr>\n",
       "    <tr>\n",
       "      <th>17</th>\n",
       "      <td>1178162</td>\n",
       "      <td>11420562</td>\n",
       "      <td>2014-04-01</td>\n",
       "      <td>6097987</td>\n",
       "      <td>Karthikram</td>\n",
       "      <td>Izzy was great... had clear instructions and n...</td>\n",
       "    </tr>\n",
       "    <tr>\n",
       "      <th>18</th>\n",
       "      <td>1178162</td>\n",
       "      <td>11696317</td>\n",
       "      <td>2014-04-12</td>\n",
       "      <td>13599868</td>\n",
       "      <td>Paola</td>\n",
       "      <td>The place was really good, it is like 10 minut...</td>\n",
       "    </tr>\n",
       "    <tr>\n",
       "      <th>19</th>\n",
       "      <td>1178162</td>\n",
       "      <td>11766427</td>\n",
       "      <td>2014-04-14</td>\n",
       "      <td>5064941</td>\n",
       "      <td>Joe</td>\n",
       "      <td>The host wasn't there, but it was fine. He lef...</td>\n",
       "    </tr>\n",
       "  </tbody>\n",
       "</table>\n",
       "</div>"
      ],
      "text/plain": [
       "    listing_id        id        date  reviewer_id reviewer_name  \\\n",
       "0      1178162   4724140  2013-05-21      4298113       Olivier   \n",
       "1      1178162   4869189  2013-05-29      6452964     Charlotte   \n",
       "2      1178162   5003196  2013-06-06      6449554     Sebastian   \n",
       "3      1178162   5150351  2013-06-15      2215611        Marine   \n",
       "4      1178162   5171140  2013-06-16      6848427        Andrew   \n",
       "5      1178162   5198929  2013-06-17      6663826         Arndt   \n",
       "6      1178162   6702817  2013-08-21      8099222       Maurice   \n",
       "7      1178162   6873023  2013-08-28      7671888        Elodie   \n",
       "8      1178162   7646702  2013-09-28      8197342     Arkadiusz   \n",
       "9      1178162   8094418  2013-10-15      9040491       Matthew   \n",
       "10     1178162   8174594  2013-10-19      9101576        Simona   \n",
       "11     1178162   8226316  2013-10-21       884407       Laurent   \n",
       "12     1178162   8372308  2013-10-28      8837991    Olga Maria   \n",
       "13     1178162   8414572  2013-10-29       478275           Kat   \n",
       "14     1178162   8523707  2013-11-04      8824032          Ivan   \n",
       "15     1178162  11069185  2014-03-18     10454265       Jeffrey   \n",
       "16     1178162  11159232  2014-03-23      9798322     Alexander   \n",
       "17     1178162  11420562  2014-04-01      6097987    Karthikram   \n",
       "18     1178162  11696317  2014-04-12     13599868         Paola   \n",
       "19     1178162  11766427  2014-04-14      5064941           Joe   \n",
       "\n",
       "                                             comments  \n",
       "0   My stay at islam's place was really cool! Good...  \n",
       "1   Great location for both airport and city - gre...  \n",
       "2   We really enjoyed our stay at Islams house. Fr...  \n",
       "3   The room was nice and clean and so were the co...  \n",
       "4   Great location. Just 5 mins walk from the Airp...  \n",
       "5   A truely exeptional place to stay. The hosts a...  \n",
       "6   It was a really nice time in Boston - best pla...  \n",
       "7   Islam is a very nice guy ! Attentive, funny, h...  \n",
       "8   The place is really well furnished, pleasant a...  \n",
       "9   Our stay at Islam's place was fantastic. We co...  \n",
       "10  Our stay at Islam's was very enjoyable, Islam ...  \n",
       "11  Communication with Islam and his brother was g...  \n",
       "12  Mi estadía en Boston aunque corta fue muy buen...  \n",
       "13  Well sized room for two people with the basic ...  \n",
       "14  GREAT SPACE, PERFECT LOCATION, AWESOME PEOPLE!...  \n",
       "15  The room was exactly as pictured, no frills, y...  \n",
       "16  The room was clean and very comfortable. Havin...  \n",
       "17  Izzy was great... had clear instructions and n...  \n",
       "18  The place was really good, it is like 10 minut...  \n",
       "19  The host wasn't there, but it was fine. He lef...  "
      ]
     },
     "execution_count": 16,
     "metadata": {},
     "output_type": "execute_result"
    }
   ],
   "source": [
    "reviews.head(20)"
   ]
  },
  {
   "cell_type": "markdown",
   "metadata": {},
   "source": [
    "**2.** adding month to reviews"
   ]
  },
  {
   "cell_type": "code",
   "execution_count": 88,
   "metadata": {
    "collapsed": true
   },
   "outputs": [],
   "source": [
    "import datetime\n",
    "def adding_month(value):\n",
    "    \"\"\" adding the month\n",
    "    to the dataframe\n",
    "    \"\"\"\n",
    "    months = ['Jan', 'Fev',\n",
    "              'Mar','Apr',\n",
    "              'May', 'Jun',\n",
    "             'Jul', 'Aug',\n",
    "              'Sep','Oct', \n",
    "              'Nov', 'Dec']\n",
    "    value_converted = datetime.datetime.strptime(value, '%Y-%m-%d')\n",
    "    return months[value_converted.month-1]\n",
    "\n",
    "reviews['months'] = reviews['date'].apply(adding_month)"
   ]
  },
  {
   "cell_type": "code",
   "execution_count": 89,
   "metadata": {},
   "outputs": [
    {
     "data": {
      "text/plain": [
       "<matplotlib.axes._subplots.AxesSubplot at 0x7fb5573e0470>"
      ]
     },
     "execution_count": 89,
     "metadata": {},
     "output_type": "execute_result"
    },
    {
     "data": {
      "image/png": "[encoded data removed]",
      "text/plain": [
       "<matplotlib.figure.Figure at 0x7fb56a7b8a58>"
      ]
     },
     "metadata": {},
     "output_type": "display_data"
    }
   ],
   "source": [
    "(reviews['months'].value_counts()/reviews.shape[0]).plot(kind = 'bar')"
   ]
  },
  {
   "cell_type": "markdown",
   "metadata": {},
   "source": [
    "We noticed that people use to book the houses in the summer (month of Aug, July, June, May), few people booked in Dec, Janv, Fev because of the coolness perhaps"
   ]
  },
  {
   "cell_type": "code",
   "execution_count": 14,
   "metadata": {},
   "outputs": [
    {
     "data": {
      "text/html": [
       "<div>\n",
       "<style>\n",
       "    .dataframe thead tr:only-child th {\n",
       "        text-align: right;\n",
       "    }\n",
       "\n",
       "    .dataframe thead th {\n",
       "        text-align: left;\n",
       "    }\n",
       "\n",
       "    .dataframe tbody tr th {\n",
       "        vertical-align: top;\n",
       "    }\n",
       "</style>\n",
       "<table border=\"1\" class=\"dataframe\">\n",
       "  <thead>\n",
       "    <tr style=\"text-align: right;\">\n",
       "      <th></th>\n",
       "      <th>listing_id</th>\n",
       "      <th>date</th>\n",
       "      <th>available</th>\n",
       "      <th>price</th>\n",
       "    </tr>\n",
       "  </thead>\n",
       "  <tbody>\n",
       "    <tr>\n",
       "      <th>0</th>\n",
       "      <td>12147973</td>\n",
       "      <td>2017-09-05</td>\n",
       "      <td>f</td>\n",
       "      <td>NaN</td>\n",
       "    </tr>\n",
       "    <tr>\n",
       "      <th>1</th>\n",
       "      <td>12147973</td>\n",
       "      <td>2017-09-04</td>\n",
       "      <td>f</td>\n",
       "      <td>NaN</td>\n",
       "    </tr>\n",
       "    <tr>\n",
       "      <th>2</th>\n",
       "      <td>12147973</td>\n",
       "      <td>2017-09-03</td>\n",
       "      <td>f</td>\n",
       "      <td>NaN</td>\n",
       "    </tr>\n",
       "    <tr>\n",
       "      <th>3</th>\n",
       "      <td>12147973</td>\n",
       "      <td>2017-09-02</td>\n",
       "      <td>f</td>\n",
       "      <td>NaN</td>\n",
       "    </tr>\n",
       "    <tr>\n",
       "      <th>4</th>\n",
       "      <td>12147973</td>\n",
       "      <td>2017-09-01</td>\n",
       "      <td>f</td>\n",
       "      <td>NaN</td>\n",
       "    </tr>\n",
       "  </tbody>\n",
       "</table>\n",
       "</div>"
      ],
      "text/plain": [
       "   listing_id        date available price\n",
       "0    12147973  2017-09-05         f   NaN\n",
       "1    12147973  2017-09-04         f   NaN\n",
       "2    12147973  2017-09-03         f   NaN\n",
       "3    12147973  2017-09-02         f   NaN\n",
       "4    12147973  2017-09-01         f   NaN"
      ]
     },
     "execution_count": 14,
     "metadata": {},
     "output_type": "execute_result"
    }
   ],
   "source": [
    "calendar.head()"
   ]
  },
  {
   "cell_type": "code",
   "execution_count": 27,
   "metadata": {},
   "outputs": [
    {
     "name": "stdout",
     "output_type": "stream",
     "text": [
      "number of rows of dataframe: 1308890 \n",
      "\n",
      "number of columns of  dataframe: 4 \n",
      "\n"
     ]
    }
   ],
   "source": [
    "get_dataframe_info(calendar)"
   ]
  },
  {
   "cell_type": "code",
   "execution_count": 28,
   "metadata": {},
   "outputs": [],
   "source": [
    "calendar_group = calendar.groupby('listing_id')"
   ]
  },
  {
   "cell_type": "code",
   "execution_count": 29,
   "metadata": {},
   "outputs": [],
   "source": [
    "e = calendar_group.first()"
   ]
  },
  {
   "cell_type": "code",
   "execution_count": 30,
   "metadata": {},
   "outputs": [
    {
     "data": {
      "text/plain": [
       "<matplotlib.axes._subplots.AxesSubplot at 0x7f17d00eb978>"
      ]
     },
     "execution_count": 30,
     "metadata": {},
     "output_type": "execute_result"
    },
    {
     "data": {
      "image/png": "[encoded data removed]",
      "text/plain": [
       "<matplotlib.figure.Figure at 0x7f17d014a160>"
      ]
     },
     "metadata": {},
     "output_type": "display_data"
    }
   ],
   "source": [
    "(e['available'].value_counts()/e.shape[0]).plot(kind='bar')"
   ]
  },
  {
   "cell_type": "markdown",
   "metadata": {},
   "source": [
    "## "
   ]
  }
 ],
 "metadata": {
  "kernelspec": {
   "display_name": "Python 3",
   "language": "python",
   "name": "python3"
  },
  "language_info": {
   "codemirror_mode": {
    "name": "ipython",
    "version": 3
   },
   "file_extension": ".py",
   "mimetype": "text/x-python",
   "name": "python",
   "nbconvert_exporter": "python",
   "pygments_lexer": "ipython3",
   "version": "3.6.3"
  }
 },
 "nbformat": 4,
 "nbformat_minor": 2
}
