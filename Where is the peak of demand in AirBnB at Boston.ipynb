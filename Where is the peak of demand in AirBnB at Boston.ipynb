{
 "cells": [
  {
   "cell_type": "markdown",
   "metadata": {},
   "source": [
    "\n",
    " Import all necessary libraries."
   ]
  },
  {
   "cell_type": "code",
   "execution_count": 1,
   "metadata": {
    "collapsed": true
   },
   "outputs": [],
   "source": [
    "import numpy as np\n",
    "import pandas as pd\n",
    "from IPython import display\n",
    "import matplotlib.pyplot as plt\n",
    "%matplotlib inline"
   ]
  },
  {
   "cell_type": "markdown",
   "metadata": {},
   "source": [
    "Read all the dataset we've export\n",
    "## A look at the data\n",
    "\n",
    " **1.** Read all the data with right separator and pandas."
   ]
  },
  {
   "cell_type": "code",
   "execution_count": 2,
   "metadata": {
    "collapsed": true
   },
   "outputs": [],
   "source": [
    "calendar = pd.read_csv('calendar.csv', sep=',')\n",
    "listings = pd.read_csv('listings.csv', sep=',')\n",
    "reviews = pd.read_csv('reviews.csv', sep=',')"
   ]
  },
  {
   "cell_type": "markdown",
   "metadata": {},
   "source": [
    " **2.** Analyse the types of property in the AirBnB"
   ]
  },
  {
   "cell_type": "code",
   "execution_count": 3,
   "metadata": {},
   "outputs": [
    {
     "data": {
      "text/plain": [
       "<matplotlib.axes._subplots.AxesSubplot at 0x7f213f0c2eb8>"
      ]
     },
     "execution_count": 3,
     "metadata": {},
     "output_type": "execute_result"
    },
    {
     "data": {
      "image/png": "[encoded data removed]",
      "text/plain": [
       "<matplotlib.figure.Figure at 0x7f213f0c27b8>"
      ]
     },
     "metadata": {},
     "output_type": "display_data"
    }
   ],
   "source": [
    "(listings['property_type'].value_counts()/listings.shape[0]).plot(kind='bar')"
   ]
  },
  {
   "cell_type": "markdown",
   "metadata": {},
   "source": [
    "Most of the property are appartment (70%) <br> House come in second with (15%) and others types of property then"
   ]
  },
  {
   "cell_type": "code",
   "execution_count": 4,
   "metadata": {},
   "outputs": [
    {
     "data": {
      "text/plain": [
       "Index(['id', 'listing_url', 'scrape_id', 'last_scraped', 'name', 'summary',\n",
       "       'space', 'description', 'experiences_offered', 'neighborhood_overview',\n",
       "       'notes', 'transit', 'access', 'interaction', 'house_rules',\n",
       "       'thumbnail_url', 'medium_url', 'picture_url', 'xl_picture_url',\n",
       "       'host_id', 'host_url', 'host_name', 'host_since', 'host_location',\n",
       "       'host_about', 'host_response_time', 'host_response_rate',\n",
       "       'host_acceptance_rate', 'host_is_superhost', 'host_thumbnail_url',\n",
       "       'host_picture_url', 'host_neighbourhood', 'host_listings_count',\n",
       "       'host_total_listings_count', 'host_verifications',\n",
       "       'host_has_profile_pic', 'host_identity_verified', 'street',\n",
       "       'neighbourhood', 'neighbourhood_cleansed',\n",
       "       'neighbourhood_group_cleansed', 'city', 'state', 'zipcode', 'market',\n",
       "       'smart_location', 'country_code', 'country', 'latitude', 'longitude',\n",
       "       'is_location_exact', 'property_type', 'room_type', 'accommodates',\n",
       "       'bathrooms', 'bedrooms', 'beds', 'bed_type', 'amenities', 'square_feet',\n",
       "       'price', 'weekly_price', 'monthly_price', 'security_deposit',\n",
       "       'cleaning_fee', 'guests_included', 'extra_people', 'minimum_nights',\n",
       "       'maximum_nights', 'calendar_updated', 'has_availability',\n",
       "       'availability_30', 'availability_60', 'availability_90',\n",
       "       'availability_365', 'calendar_last_scraped', 'number_of_reviews',\n",
       "       'first_review', 'last_review', 'review_scores_rating',\n",
       "       'review_scores_accuracy', 'review_scores_cleanliness',\n",
       "       'review_scores_checkin', 'review_scores_communication',\n",
       "       'review_scores_location', 'review_scores_value', 'requires_license',\n",
       "       'license', 'jurisdiction_names', 'instant_bookable',\n",
       "       'cancellation_policy', 'require_guest_profile_picture',\n",
       "       'require_guest_phone_verification', 'calculated_host_listings_count',\n",
       "       'reviews_per_month'],\n",
       "      dtype='object')"
      ]
     },
     "execution_count": 4,
     "metadata": {},
     "output_type": "execute_result"
    }
   ],
   "source": [
    "listings.columns"
   ]
  },
  {
   "cell_type": "markdown",
   "metadata": {},
   "source": [
    "**3.** adding month to reviews"
   ]
  },
  {
   "cell_type": "code",
   "execution_count": 5,
   "metadata": {
    "collapsed": true
   },
   "outputs": [],
   "source": [
    "import datetime\n",
    "def adding_month(value):\n",
    "    \"\"\" adding the month\n",
    "    to the dataframe\n",
    "    \"\"\"\n",
    "    months = ['Jan', 'Fev',\n",
    "              'Mar','Apr',\n",
    "              'May', 'Jun',\n",
    "             'Jul', 'Aug',\n",
    "              'Sep','Oct', \n",
    "              'Nov', 'Dec']\n",
    "    value_converted = datetime.datetime.strptime(value, '%Y-%m-%d')\n",
    "    return value_converted.month\n",
    "\n",
    "reviews['months'] = reviews['date'].apply(adding_month)\n",
    "\n",
    "def adding_season(value):\n",
    "    \"\"\" adding season\n",
    "    to the dataframe\n",
    "    \"\"\"\n",
    "    if value>=6 and value<9:\n",
    "        season = 'Summer'\n",
    "    elif value>=3 and value<6:\n",
    "        season = 'Automn'\n",
    "    elif value==12 and value<3:\n",
    "        season = 'Winter'\n",
    "    else:\n",
    "        season = 'Spring'\n",
    "    return season\n",
    "    "
   ]
  },
  {
   "cell_type": "markdown",
   "metadata": {
    "collapsed": true
   },
   "source": [
    "**4.** Let's see when people use to book houses in Boston\n"
   ]
  },
  {
   "cell_type": "code",
   "execution_count": 9,
   "metadata": {
    "collapsed": true
   },
   "outputs": [],
   "source": [
    "# getting price to compute mean\n",
    "def compute_price(value):\n",
    "    '''\n",
    "    Convert to float the\n",
    "    price value of pro-\n",
    "    perty\n",
    "    INPUT\n",
    "    - price in dollar\n",
    "    OUTPUT\n",
    "    - price in float\n",
    "    '''\n",
    "    if isinstance(value,str):\n",
    "        value_back = value.split('$')\n",
    "        val = value_back[1]\n",
    "        if ',' in val: #avoid ','\n",
    "            val = val.replace(',','')\n",
    "        return float(val)\n",
    "    else:\n",
    "        return float('NaN')\n",
    "    \n"
   ]
  },
  {
   "cell_type": "code",
   "execution_count": 10,
   "metadata": {
    "collapsed": true
   },
   "outputs": [],
   "source": [
    "calendar_copy = calendar.copy()\n",
    "calendar_copy['months'] = calendar['date'].apply(adding_month)\n",
    "calendar_copy['season'] = calendar_copy['months'].apply(adding_season)"
   ]
  },
  {
   "cell_type": "code",
   "execution_count": 11,
   "metadata": {
    "collapsed": true
   },
   "outputs": [],
   "source": [
    "calendar_copy['real_price'] = calendar_copy['price'].apply(compute_price)"
   ]
  },
  {
   "cell_type": "code",
   "execution_count": 12,
   "metadata": {},
   "outputs": [
    {
     "data": {
      "text/plain": [
       "<matplotlib.axes._subplots.AxesSubplot at 0x7f2133dcdba8>"
      ]
     },
     "execution_count": 12,
     "metadata": {},
     "output_type": "execute_result"
    },
    {
     "data": {
      "image/png": "[encoded data removed]",
      "text/plain": [
       "<matplotlib.figure.Figure at 0x7f2133e75198>"
      ]
     },
     "metadata": {},
     "output_type": "display_data"
    }
   ],
   "source": [
    "(calendar_copy['season'].value_counts()/calendar_copy.shape[0]).plot(kind = 'bar')"
   ]
  },
  {
   "cell_type": "markdown",
   "metadata": {},
   "source": [
    "**Conclusion:**<br> People used to book property in the summer or before the summer not in Winter perhaps because they prefer good temperature to coolness"
   ]
  },
  {
   "cell_type": "markdown",
   "metadata": {},
   "source": [
    "**5.** Get the average price according to season"
   ]
  },
  {
   "cell_type": "code",
   "execution_count": 13,
   "metadata": {},
   "outputs": [
    {
     "data": {
      "text/plain": [
       "season\n",
       "Automn    190.750467\n",
       "Spring    196.860084\n",
       "Summer    206.998642\n",
       "Name: real_price, dtype: float64"
      ]
     },
     "execution_count": 13,
     "metadata": {},
     "output_type": "execute_result"
    }
   ],
   "source": [
    "calendar_copy.groupby(['season'])['real_price'].mean().dropna()"
   ]
  },
  {
   "cell_type": "markdown",
   "metadata": {},
   "source": [
    "The average price is bigger in summer and before summer in comparison to automn"
   ]
  },
  {
   "cell_type": "markdown",
   "metadata": {},
   "source": [
    "**6** Create a function for our purposes and avoid repetition"
   ]
  },
  {
   "cell_type": "code",
   "execution_count": 35,
   "metadata": {
    "collapsed": true
   },
   "outputs": [],
   "source": [
    "\n",
    "def property_analysis(property_name, listings, calendar):\n",
    "    '''\n",
    "    add month and season of booking\n",
    "    of the different property, then\n",
    "    convert the price in dollar to\n",
    "    float\n",
    "    INPUT\n",
    "    - property_name\n",
    "    OUTPUT\n",
    "    - calendar dataframe with addi-\n",
    "    tionnal columnes\n",
    "    '''\n",
    "    property_type = listings[listings['property_type']==property_name]\n",
    "    property_type.reset_index(inplace = True) \n",
    "    calendar_property_type = calendar.loc[calendar['listing_id'].isin(property_type['id'])]\n",
    "    calendar_property_type_group = calendar_property_type.groupby('available')\n",
    "    calendar_property_type_2 = calendar_property_type_group.get_group('t')\n",
    "    calendar_property_type_2.index = np.arange(0, len(calendar_property_type_2))\n",
    "    calendar_property_type_copy = calendar_property_type_2.copy()\n",
    "    calendar_property_type_copy['months'] = calendar_property_type_copy['date'].apply(adding_month)\n",
    "    calendar_property_type_copy['season'] = calendar_property_type_copy['months'].apply(adding_season)\n",
    "    calendar_property_type_copy['real_price'] = calendar_property_type_copy['price'].apply(compute_price)\n",
    "    return calendar_property_type_copy\n",
    "\n"
   ]
  },
  {
   "cell_type": "markdown",
   "metadata": {},
   "source": [
    "**7.** Get more informations about each listings property"
   ]
  },
  {
   "cell_type": "code",
   "execution_count": 40,
   "metadata": {
    "collapsed": true
   },
   "outputs": [],
   "source": [
    "\n",
    "calendar_appartment = property_analysis('Apartment', listings, calendar)\n",
    "calendar_house = property_analysis('House', listings, calendar)\n",
    "#(calendar_appartment['season'].value_counts()/calendar_appartment.shape[0]).plot(kind = 'bar')"
   ]
  },
  {
   "cell_type": "markdown",
   "metadata": {},
   "source": [
    "**8.** Price average per season for appartment"
   ]
  },
  {
   "cell_type": "code",
   "execution_count": 46,
   "metadata": {},
   "outputs": [
    {
     "data": {
      "text/plain": [
       "season\n",
       "Automn    203.065283\n",
       "Spring    212.919131\n",
       "Summer    225.340707\n",
       "Name: real_price, dtype: float64"
      ]
     },
     "execution_count": 46,
     "metadata": {},
     "output_type": "execute_result"
    }
   ],
   "source": [
    "calendar_appartment.groupby(['season'])['real_price'].mean().dropna()"
   ]
  },
  {
   "cell_type": "markdown",
   "metadata": {},
   "source": [
    "**9.** Price average per season for houses"
   ]
  },
  {
   "cell_type": "code",
   "execution_count": 47,
   "metadata": {},
   "outputs": [
    {
     "data": {
      "text/plain": [
       "season\n",
       "Automn    143.370350\n",
       "Spring    136.640421\n",
       "Summer    143.385668\n",
       "Name: real_price, dtype: float64"
      ]
     },
     "execution_count": 47,
     "metadata": {},
     "output_type": "execute_result"
    }
   ],
   "source": [
    "calendar_house.groupby(['season'])['real_price'].mean().dropna()"
   ]
  },
  {
   "cell_type": "markdown",
   "metadata": {},
   "source": [
    "**10.** Visualisation of appartments booking per season"
   ]
  },
  {
   "cell_type": "code",
   "execution_count": 48,
   "metadata": {},
   "outputs": [
    {
     "data": {
      "text/plain": [
       "Text(0.5,1,'Season of appartment booking')"
      ]
     },
     "execution_count": 48,
     "metadata": {},
     "output_type": "execute_result"
    },
    {
     "data": {
      "image/png": "[encoded data removed]",
      "text/plain": [
       "<matplotlib.figure.Figure at 0x7f2133b43710>"
      ]
     },
     "metadata": {},
     "output_type": "display_data"
    }
   ],
   "source": [
    "(calendar_appartment['season'].value_counts()/calendar_appartment.shape[0]).plot(kind='bar')\n",
    "plt.title('Season of appartment booking')"
   ]
  },
  {
   "cell_type": "markdown",
   "metadata": {},
   "source": [
    "Appartments as seen in **A look at the data** is the most demanded houses <br>\n",
    "People mostly book in Spring and summer"
   ]
  },
  {
   "cell_type": "markdown",
   "metadata": {},
   "source": [
    "**11.** Visualisation of houses booking per season"
   ]
  },
  {
   "cell_type": "code",
   "execution_count": 50,
   "metadata": {},
   "outputs": [
    {
     "data": {
      "text/plain": [
       "Text(0.5,1,'Season of house booking')"
      ]
     },
     "execution_count": 50,
     "metadata": {},
     "output_type": "execute_result"
    },
    {
     "data": {
      "image/png": "[encoded data removed]",
      "text/plain": [
       "<matplotlib.figure.Figure at 0x7f2133b607b8>"
      ]
     },
     "metadata": {},
     "output_type": "display_data"
    }
   ],
   "source": [
    "(calendar_house['season'].value_counts()/calendar_house.shape[0]).plot(kind='bar')\n",
    "plt.title('Season of house booking')"
   ]
  },
  {
   "cell_type": "markdown",
   "metadata": {},
   "source": [
    "Same conclusion for houses\n",
    "the offer property types are not relevant"
   ]
  },
  {
   "cell_type": "code",
   "execution_count": null,
   "metadata": {
    "collapsed": true
   },
   "outputs": [],
   "source": []
  }
 ],
 "metadata": {
  "kernelspec": {
   "display_name": "Python 3",
   "language": "python",
   "name": "python3"
  },
  "language_info": {
   "codemirror_mode": {
    "name": "ipython",
    "version": 3
   },
   "file_extension": ".py",
   "mimetype": "text/x-python",
   "name": "python",
   "nbconvert_exporter": "python",
   "pygments_lexer": "ipython3",
   "version": "3.6.3"
  }
 },
 "nbformat": 4,
 "nbformat_minor": 2
}
